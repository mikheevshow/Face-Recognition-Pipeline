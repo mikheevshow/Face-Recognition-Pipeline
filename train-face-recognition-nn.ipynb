{
 "cells": [
  {
   "cell_type": "code",
   "outputs": [],
   "source": [
    "import torch\n",
    "import torch.nn.functional as F\n",
    "import torch.nn as nn\n",
    "import torch.optim as optim\n",
    "from torch.utils.data import DataLoader\n",
    "\n",
    "from torchvision import transforms as tf\n",
    "\n",
    "from matplotlib import pyplot as plt\n",
    "\n",
    "import warnings\n",
    "warnings.filterwarnings(\"ignore\")"
   ],
   "metadata": {
    "collapsed": false
   },
   "id": "f239fb1a251eeb90",
   "execution_count": null
  },
  {
   "cell_type": "code",
   "outputs": [],
   "source": [
    "def set_seeds(seed: int = 42):\n",
    "    \"\"\"\n",
    "    Sets random seed for reproducibility.\n",
    "    :param seed: (int, optional): Random seed. Defaults to 42\n",
    "    :return: \n",
    "    \"\"\"\n",
    "    torch.manual_seed(seed)\n",
    "    torch.cuda.manual_seed_all(seed)"
   ],
   "metadata": {
    "collapsed": false
   },
   "id": "4037fdea73359585",
   "execution_count": null
  },
  {
   "cell_type": "code",
   "outputs": [],
   "source": [
    "!nvidia-smi"
   ],
   "metadata": {
    "collapsed": false
   },
   "id": "72d698271b1e50f1",
   "execution_count": null
  },
  {
   "cell_type": "code",
   "outputs": [],
   "source": [
    "if torch.cuda.is_available():\n",
    "    device = torch.device(\"cuda\")\n",
    "else:\n",
    "    device = torch.device(\"cpu\")\n",
    "    \n",
    "print(f\"Using device: {device}\")    "
   ],
   "metadata": {
    "collapsed": false
   },
   "id": "59523550ab40453d",
   "execution_count": null
  },
  {
   "cell_type": "markdown",
   "source": [
    "# Create Celebs Dataset"
   ],
   "metadata": {
    "collapsed": false
   },
   "id": "c0771b28b1c04624"
  },
  {
   "cell_type": "code",
   "outputs": [],
   "source": [
    "from dataset.celeb import CelebDataset"
   ],
   "metadata": {
    "collapsed": false
   },
   "id": "2df385ae78192643",
   "execution_count": null
  },
  {
   "cell_type": "code",
   "outputs": [],
   "source": [
    "train_dataset = CelebDataset(mode='train')\n",
    "val_dataset = CelebDataset(mode='val')\n",
    "test_dataset = CelebDataset(mode='test')"
   ],
   "metadata": {
    "collapsed": false
   },
   "id": "b365edf6ae3d5ab0",
   "execution_count": null
  },
  {
   "cell_type": "markdown",
   "source": [
    "# Let's look at cropped images from celeb dataset"
   ],
   "metadata": {
    "collapsed": false
   },
   "id": "5b5d4049696497b7"
  },
  {
   "cell_type": "code",
   "outputs": [],
   "source": [
    "import random\n",
    "\n",
    "nrows, ncols = 1,  10\n",
    "fig, ax = plt.subplots(nrows=nrows, ncols=ncols, figsize=(10, 7))\n",
    "ax = ax.flatten()\n",
    "to_pil = tf.ToPILImage()\n",
    "for i in range(nrows * ncols):\n",
    "    rand_index = random.randint(0, len(train_dataset) - 1)\n",
    "    image_tensor = train_dataset.__getitem__(rand_index)[0]\n",
    "    pil_image = to_pil(image_tensor)\n",
    "    ax[i].imshow(pil_image)"
   ],
   "metadata": {
    "collapsed": false
   },
   "id": "3883576145c38a78",
   "execution_count": null
  },
  {
   "cell_type": "code",
   "outputs": [],
   "source": [
    "batch_size = 64\n",
    "\n",
    "train_dataloader = DataLoader(dataset=train_dataset, batch_size=batch_size, shuffle=True)\n",
    "val_dataloader = DataLoader(dataset=val_dataset, batch_size=batch_size)\n",
    "test_dataloader = DataLoader(dataset=test_dataset, batch_size=batch_size)"
   ],
   "metadata": {
    "collapsed": false
   },
   "id": "694a4ee1ae8c13c3",
   "execution_count": null
  },
  {
   "cell_type": "code",
   "outputs": [],
   "source": [],
   "metadata": {
    "collapsed": false
   },
   "id": "d99b53fd6aba4326",
   "execution_count": null
  },
  {
   "cell_type": "markdown",
   "source": [
    "## Train simple classifier"
   ],
   "metadata": {
    "collapsed": false
   },
   "id": "a17bb73e8304bd34"
  },
  {
   "cell_type": "markdown",
   "source": [
    "\n",
    "# ResNet + Cross-Entropy Loss"
   ],
   "metadata": {
    "collapsed": false
   },
   "id": "c7d42d7d5aa7fec"
  },
  {
   "cell_type": "markdown",
   "source": [
    "Let's use pretrained ResNet network. Here I change fully-connected layers and freeze convolutional layers to relearn the network to recognize faces. "
   ],
   "metadata": {
    "collapsed": false
   },
   "id": "ff2edbde5c148906"
  },
  {
   "cell_type": "code",
   "outputs": [],
   "source": [
    "from torchvision.models import resnet34, ResNet101_Weights, ResNet\n",
    "\n",
    "model: ResNet = resnet34(weights=ResNet101_Weights.IMAGENET1K_V1)\n",
    "\n",
    "# Freeze feature parameters in the \"feature\" section of the model, because we want to train only classifier\n",
    "for param in model.parameters():\n",
    "    param.requires_grad = False\n",
    "\n",
    "set_seeds()\n",
    "# Let's assign a brand-new classifier to our model. We will train it during train procedure\n",
    "num_features = model.fc.in_features\n",
    "\n",
    "model.fc = nn.Sequential(\n",
    "    nn.Linear(in_features=num_features, out_features=num_features * 2),\n",
    "    nn.ReLU(inplace=True),\n",
    "    nn.Linear(in_features=num_features * 2, out_features=num_features),\n",
    "    nn.ReLU(inplace=True),\n",
    "    nn.Linear(in_features=num_features, out_features=128),\n",
    "    nn.ReLU(inplace=True),\n",
    "    nn.Linear(in_features=128, out_features=128),\n",
    "    nn.ReLU(inplace=True),\n",
    "    nn.Linear(in_features=128, out_features=500)\n",
    ")"
   ],
   "metadata": {
    "collapsed": false
   },
   "id": "78192c3bb739b4f3",
   "execution_count": null
  },
  {
   "cell_type": "code",
   "outputs": [],
   "source": [
    "# Let's look at network architecture\n",
    "from torchinfo import summary\n",
    "summary(\n",
    "    model=model,\n",
    "    input_size=(32, 3, 224, 224),\n",
    "    verbose=0,\n",
    "    col_names=[\"input_size\", \"output_size\", \"num_params\", \"trainable\"],\n",
    "    col_width=20\n",
    ")"
   ],
   "metadata": {
    "collapsed": false
   },
   "id": "9b97f102bf092e60",
   "execution_count": null
  },
  {
   "cell_type": "markdown",
   "source": [
    "## Loss Function and Optimizer"
   ],
   "metadata": {
    "collapsed": false
   },
   "id": "40b9ffc678fdd566"
  },
  {
   "cell_type": "code",
   "outputs": [],
   "source": [
    "criterion = F.cross_entropy\n",
    "optimizer = optim.SGD(model.parameters(), lr=1e-3, momentum=)"
   ],
   "metadata": {
    "collapsed": false
   },
   "id": "a35db67591d51d5",
   "execution_count": null
  },
  {
   "cell_type": "markdown",
   "source": [
    "## Run Train Loop"
   ],
   "metadata": {
    "collapsed": false
   },
   "id": "f9541070432354e6"
  },
  {
   "cell_type": "code",
   "outputs": [],
   "source": [
    "from train.train import train\n",
    "\n",
    "set_seeds()\n",
    "\n",
    "history = train(\n",
    "    epochs=50,\n",
    "    train_dataloader=train_dataloader,\n",
    "    val_dataloader=val_dataloader,\n",
    "    model=model,\n",
    "    criterion=criterion,\n",
    "    optimizer=optimizer,\n",
    "    device=device\n",
    ")"
   ],
   "metadata": {
    "collapsed": false
   },
   "id": "ba6e1b5a12198e51",
   "execution_count": null
  },
  {
   "cell_type": "markdown",
   "source": [
    "# Triplet Loss "
   ],
   "metadata": {
    "collapsed": false
   },
   "id": "f54be0a48451850"
  },
  {
   "cell_type": "markdown",
   "source": [
    "## Triplet Celeb Dataset"
   ],
   "metadata": {
    "collapsed": false
   },
   "id": "4beee7b3a3fb6ef2"
  },
  {
   "cell_type": "code",
   "outputs": [],
   "source": [
    "from dataset.celeb_triplet import CelebTripletDataset"
   ],
   "metadata": {
    "collapsed": false
   },
   "id": "7c263ea4401918bf",
   "execution_count": null
  },
  {
   "cell_type": "code",
   "outputs": [],
   "source": [
    "triplet_train_dataset = CelebTripletDataset(mode='train', file_location='Local')\n",
    "triplet_val_dataset = CelebTripletDataset(mode='val', file_location='Local')"
   ],
   "metadata": {
    "collapsed": false
   },
   "id": "d72ce1439cffb3ad",
   "execution_count": null
  },
  {
   "cell_type": "markdown",
   "source": [
    "## Example of random triplets"
   ],
   "metadata": {
    "collapsed": false
   },
   "id": "41a893508850822"
  },
  {
   "cell_type": "code",
   "outputs": [],
   "source": [
    "import random\n",
    "\n",
    "nrows, ncols = 5,  3\n",
    "fig, ax = plt.subplots(nrows=nrows, ncols=ncols, figsize=(10, 7))\n",
    "ax = ax.flatten()\n",
    "to_pil = tf.ToPILImage()\n",
    "for i in range(0, nrows * ncols, 3):\n",
    "    rand_index = random.randint(0, len(triplet_train_dataset) - 1)\n",
    "    anchor, positive, negative = triplet_train_dataset[rand_index]\n",
    "    ax[i + 0].imshow(to_pil(anchor))\n",
    "    ax[i + 1].imshow(to_pil(positive))\n",
    "    ax[i + 2].imshow(to_pil(negative))\n",
    "    "
   ],
   "metadata": {
    "collapsed": false
   },
   "id": "6c191a66be142792",
   "execution_count": null
  },
  {
   "cell_type": "markdown",
   "source": [
    "## Let's create dataloaders"
   ],
   "metadata": {
    "collapsed": false
   },
   "id": "e1d1fd5c65eae463"
  },
  {
   "cell_type": "code",
   "outputs": [],
   "source": [
    "triplet_train_dataloader = DataLoader(dataset=triplet_train_dataset)\n",
    "triplet_val_dataloader = DataLoader(dataset=triplet_val_dataset)"
   ],
   "metadata": {
    "collapsed": false
   },
   "id": "5bc739e3dfb0d70a"
  },
  {
   "cell_type": "markdown",
   "source": [
    "# Choosing of model"
   ],
   "metadata": {
    "collapsed": false
   },
   "id": "6628274cd66292f"
  },
  {
   "cell_type": "code",
   "outputs": [],
   "source": [
    "from torchvision.models import resnet18, ResNet, ResNet18_Weights\n",
    "\n",
    "triplet_model: ResNet = resnet18(pretrained=True, weights=ResNet18_Weights.IMAGENET1K_V1)"
   ],
   "metadata": {
    "collapsed": false
   },
   "id": "e0ce0ba25836614a"
  },
  {
   "cell_type": "code",
   "outputs": [],
   "source": [
    "triplet_optimizer = optim.Adam(model.parameters())"
   ],
   "metadata": {
    "collapsed": false
   },
   "id": "7eb5db77b4732b43"
  },
  {
   "cell_type": "code",
   "outputs": [],
   "source": [
    "from train import triplet_loss_train as triplet_train\n",
    "\n",
    "# triplet loss already built-in triplet_train loop\n",
    "loss_history = triplet_train.train(\n",
    "    epochs=20,\n",
    "    model=triplet_model,\n",
    "    train_dataloader=triplet_train_dataloader,\n",
    "    val_dataloader=triplet_val_dataloader,\n",
    "    optimizer=triplet_optimizer,\n",
    "    device=device\n",
    ")"
   ],
   "metadata": {
    "collapsed": false
   },
   "id": "a3a9826e2aac2210"
  }
 ],
 "metadata": {
  "kernelspec": {
   "display_name": "Python 3",
   "language": "python",
   "name": "python3"
  },
  "language_info": {
   "codemirror_mode": {
    "name": "ipython",
    "version": 2
   },
   "file_extension": ".py",
   "mimetype": "text/x-python",
   "name": "python",
   "nbconvert_exporter": "python",
   "pygments_lexer": "ipython2",
   "version": "2.7.6"
  }
 },
 "nbformat": 4,
 "nbformat_minor": 5
}
