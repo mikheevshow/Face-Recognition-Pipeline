{
 "cells": [
  {
   "cell_type": "markdown",
   "source": [
    "# Прогон тестов для метрики TPR@FPR"
   ],
   "metadata": {
    "collapsed": false
   },
   "id": "e14efb93382a40aa"
  },
  {
   "cell_type": "markdown",
   "source": [
    "Здесь представлена черновая реализация метрики TPR@FPR для проверки корректности тестов.\n",
    "\n",
    ".∧＿∧ \n",
    "( ･ω･｡)つ━☆・*。 \n",
    "⊂　 ノ 　　　・゜+. \n",
    "しーＪ　　　°。+ *´¨) \n",
    "　　　　　　　　　.· ´¸.·*´¨) ¸.·*¨) \n",
    "　　　　　　　　　　(¸.·´ (¸.·'* ☆Итоговую версию метрики можно найти перейдя по импорту ниже"
   ],
   "metadata": {
    "collapsed": false
   },
   "id": "9e1809f0ca4caa4b"
  },
  {
   "cell_type": "code",
   "outputs": [],
   "source": [
    "from metrics.tprfpr import compute_ir_metric"
   ],
   "metadata": {
    "collapsed": false
   },
   "id": "4d0dca20b4a367a0"
  },
  {
   "cell_type": "markdown",
   "source": [],
   "metadata": {
    "collapsed": false
   },
   "id": "6713eda6917401f6"
  },
  {
   "cell_type": "code",
   "execution_count": 1,
   "id": "initial_id",
   "metadata": {
    "collapsed": true,
    "ExecuteTime": {
     "end_time": "2024-02-04T01:38:06.301960Z",
     "start_time": "2024-02-04T01:38:04.664431Z"
    }
   },
   "outputs": [],
   "source": [
    "from torch.nn  import CosineSimilarity\n",
    "import torch\n",
    "import numpy as np"
   ]
  },
  {
   "cell_type": "code",
   "outputs": [],
   "source": [
    "# Если вы работаете с данными, которые даны по ссылке,\n",
    "# то эта ячейка поможет их загрузить\n",
    "import os\n",
    "from collections import defaultdict\n",
    "\n",
    "# file with query part annotations: which image belongs to which class\n",
    "# format:\n",
    "#     image_name_1.jpg 2678\n",
    "#     image_name_2.jpg 2679\n",
    "f = open('./celebA_ir/celebA_anno_query.csv', 'r')\n",
    "query_lines = f.readlines()[1:]\n",
    "f.close()\n",
    "query_lines = [x.strip().split(',') for x in query_lines]\n",
    "# plain list of image names from query. Neede to compute embeddings for query\n",
    "query_img_names = [x[0] for x in query_lines]\n",
    "\n",
    "# dictionary with info of which images from query belong to which class\n",
    "# format:\n",
    "#     {class: [image_1, image_2, ...]}\n",
    "query_dict = defaultdict(list)\n",
    "for img_name, img_class in query_lines:\n",
    "    query_dict[img_class].append(img_name)\n",
    "\n",
    "# list of distractor images\n",
    "distractors_img_names = os.listdir('./celebA_ir/celebA_distractors')"
   ],
   "metadata": {
    "collapsed": false,
    "ExecuteTime": {
     "end_time": "2024-02-04T01:38:07.529901Z",
     "start_time": "2024-02-04T01:38:07.510608Z"
    }
   },
   "id": "1070877313e93584",
   "execution_count": 2
  },
  {
   "cell_type": "code",
   "outputs": [],
   "source": [
    "def compute_cosine_query_pos(query_dict, query_img_names, query_embeddings):\n",
    "    '''\n",
    "    compute cosine similarities between positive pairs from query (stage 1)\n",
    "    params:\n",
    "      query_dict: dict {class: [image_name_1, image_name_2, ...]}. Key: class in\n",
    "                  the dataset. Value: images corresponding to that class\n",
    "      query_img_names: list of images names\n",
    "      query_embeddings: list of embeddings corresponding to query_img_names\n",
    "    output:\n",
    "      list of floats: similarities between embeddings corresponding\n",
    "                      to the same people from query list\n",
    "    '''\n",
    "    cosine_similarity = CosineSimilarity(dim=0)\n",
    "    pos_similarities = []\n",
    "    tensor = torch.FloatTensor(query_embeddings)\n",
    "    for _, key in enumerate(query_dict):\n",
    "        imgs = query_dict[key]\n",
    "        for i, img_i in enumerate(imgs):\n",
    "            for j, img_j in enumerate(imgs):\n",
    "                if i < j:\n",
    "                    emb_index_i = query_img_names.index(img_i)\n",
    "                    emb_index_j =  query_img_names.index(img_j)\n",
    "                    tensor_i = tensor[emb_index_i]\n",
    "                    tensor_j = tensor[emb_index_j]\n",
    "                    similarity = cosine_similarity(tensor_i, tensor_j).item()\n",
    "                    pos_similarities.append(similarity)\n",
    "    return pos_similarities                \n",
    "                    \n",
    "\n",
    "def compute_cosine_query_neg(query_dict, query_img_names, query_embeddings):\n",
    "    '''\n",
    "    compute cosine similarities between negative pairs from query (stage 2)\n",
    "    params:\n",
    "      query_dict: dict {class: [image_name_1, image_name_2, ...]}. Key: class in\n",
    "                  the dataset. Value: images corresponding to that class\n",
    "      query_img_names: list of images names\n",
    "      query_embeddings: list of embeddings corresponding to query_img_names\n",
    "    output:\n",
    "      list of floats: similarities between embeddings corresponding\n",
    "                      to different people from query list\n",
    "    '''\n",
    "    cosine_similarity = CosineSimilarity(dim=0)\n",
    "    neg_similarities = []\n",
    "    tensor = torch.FloatTensor(query_embeddings)\n",
    "    for _, key_i in enumerate(query_dict):\n",
    "        for _, key_j in enumerate(query_dict):\n",
    "            if key_i < key_j:\n",
    "                list_i = query_dict[key_j]\n",
    "                list_j = query_dict[key_i]\n",
    "                for img_i in list_i:\n",
    "                    for img_j in list_j:\n",
    "                        indx_i = query_img_names.index(img_i)\n",
    "                        indx_j = query_img_names.index(img_j)\n",
    "                        tensor_i = tensor[indx_i]\n",
    "                        tensor_j = tensor[indx_j]\n",
    "                        similarity = cosine_similarity(tensor_i, tensor_j).item()\n",
    "                        neg_similarities.append(similarity)\n",
    "    return neg_similarities                    \n",
    "                        \n",
    "    \n",
    "\n",
    "def compute_cosine_query_distractors(query_embeddings, distractors_embeddings):\n",
    "    '''\n",
    "    compute cosine similarities between negative pairs from query and distractors\n",
    "    (stage 3)\n",
    "    params:\n",
    "      query_embeddings: list of embeddings corresponding to query_img_names\n",
    "      distractors_embeddings: list of embeddings corresponding to distractors_img_names\n",
    "    output:\n",
    "      list of floats: similarities between pairs of people (q, d), where q is\n",
    "                      embedding corresponding to photo from query, d —\n",
    "                      embedding corresponding to photo from distractors\n",
    "    '''\n",
    "    cosine_similarity = CosineSimilarity(dim=0)\n",
    "    similarities = []\n",
    "    for i_emb in query_embeddings:\n",
    "        for j_emb in distractors_embeddings:\n",
    "            tensor_i = torch.FloatTensor(i_emb)\n",
    "            tensor_j = torch.FloatTensor(j_emb)\n",
    "            similarity = cosine_similarity(tensor_i, tensor_j).item()\n",
    "            similarities.append(similarity)\n",
    "    return similarities       "
   ],
   "metadata": {
    "collapsed": false,
    "ExecuteTime": {
     "end_time": "2024-02-04T01:38:17.317003Z",
     "start_time": "2024-02-04T01:38:17.301607Z"
    }
   },
   "id": "b20047c85a16bd6c",
   "execution_count": 5
  },
  {
   "cell_type": "code",
   "outputs": [],
   "source": [
    "test_query_dict = {\n",
    "    2876: ['1.jpg', '2.jpg', '3.jpg'],\n",
    "    5674: ['5.jpg'],\n",
    "    864:  ['9.jpg', '10.jpg'],\n",
    "}\n",
    "test_query_img_names = ['1.jpg', '2.jpg', '3.jpg', '5.jpg', '9.jpg', '10.jpg']\n",
    "test_query_embeddings = [\n",
    "    [1.56, 6.45,  -7.68],\n",
    "    [-1.1 , 6.11,  -3.0],\n",
    "    [-0.06,-0.98,-1.29],\n",
    "    [8.56, 1.45,  1.11],\n",
    "    [0.7,  1.1,   -7.56],\n",
    "    [0.05, 0.9,   -2.56],\n",
    "]\n",
    "\n",
    "test_distractors_img_names = ['11.jpg', '12.jpg', '13.jpg', '14.jpg', '15.jpg']\n",
    "\n",
    "test_distractors_embeddings = [\n",
    "    [0.12, -3.23, -5.55],\n",
    "    [-1,   -0.01, 1.22],\n",
    "    [0.06, -0.23, 1.34],\n",
    "    [-6.6, 1.45,  -1.45],\n",
    "    [0.89,  1.98, 1.45],\n",
    "]\n",
    "\n",
    "test_cosine_query_pos = compute_cosine_query_pos(test_query_dict, test_query_img_names,\n",
    "                                                 test_query_embeddings)\n",
    "test_cosine_query_neg = compute_cosine_query_neg(test_query_dict, test_query_img_names,\n",
    "                                                 test_query_embeddings)\n",
    "test_cosine_query_distractors = compute_cosine_query_distractors(test_query_embeddings,\n",
    "                                                                 test_distractors_embeddings)"
   ],
   "metadata": {
    "collapsed": false,
    "ExecuteTime": {
     "end_time": "2024-02-04T01:38:17.759790Z",
     "start_time": "2024-02-04T01:38:17.748362Z"
    }
   },
   "id": "a2261cd022218fb",
   "execution_count": 6
  },
  {
   "cell_type": "code",
   "outputs": [
    {
     "name": "stdout",
     "output_type": "stream",
     "text": [
      "-1.15822612500871e-07\n",
      "5.245020087696339e-08\n",
      "9.229855502113082e-08\n",
      "-5.325978891246308e-08\n"
     ]
    }
   ],
   "source": [
    "true_cosine_query_pos = [0.8678237233650096, 0.21226104378511604,\n",
    "                         -0.18355866977496182, 0.9787437979250561]\n",
    "assert np.allclose(sorted(test_cosine_query_pos), sorted(true_cosine_query_pos)), \\\n",
    "    \"A mistake in compute_cosine_query_pos function\"\n",
    "\n",
    "for i, v in enumerate(true_cosine_query_pos):\n",
    "    print(v - test_cosine_query_pos[i])\n",
    "\n",
    "\n",
    "true_cosine_query_neg = [0.15963231223161822, 0.8507997093616965, 0.9272761484302097,\n",
    "                         -0.0643994061127092, 0.5412660901220571, 0.701307100338029,\n",
    "                         -0.2372575528216902, 0.6941032794522218, 0.549425446066643,\n",
    "                         -0.011982733001947084, -0.0466679194884999]\n",
    "assert np.allclose(sorted(test_cosine_query_neg), sorted(true_cosine_query_neg)), \\\n",
    "    \"A mistake in compute_cosine_query_neg function\"\n",
    "\n",
    "\n",
    "true_cosine_query_distractors = [0.3371426578637511, -0.6866465610863652, -0.8456563512871669,\n",
    "                                 0.14530087113136106, 0.11410510307646118, -0.07265097629002357,\n",
    "                                 -0.24097699660707042,-0.5851992679925766, 0.4295494455718534,\n",
    "                                 0.37604478596058194, 0.9909483738948858, -0.5881093317868022,\n",
    "                                 -0.6829712976642919, 0.07546364489032083, -0.9130970963915521,\n",
    "                                 -0.17463101988684684, -0.5229363015558941, 0.1399896725311533,\n",
    "                                 -0.9258034013399499, 0.5295114163723346, 0.7811585442749943,\n",
    "                                 -0.8208760031249596, -0.9905139680301821, 0.14969764653247228,\n",
    "                                 -0.40749654525418444, 0.648660814944824, -0.7432584300096284,\n",
    "                                 -0.9839696492435877, 0.2498741082804709, -0.2661183373780491]\n",
    "assert np.allclose(sorted(test_cosine_query_distractors), sorted(true_cosine_query_distractors)), \\\n",
    "    \"A mistake in compute_cosine_query_distractors function\""
   ],
   "metadata": {
    "collapsed": false,
    "ExecuteTime": {
     "end_time": "2024-02-04T01:38:19.142980Z",
     "start_time": "2024-02-04T01:38:19.135787Z"
    }
   },
   "id": "7b889c22d0a78066",
   "execution_count": 7
  },
  {
   "cell_type": "code",
   "outputs": [],
   "source": [
    "def compute_ir(cosine_query_pos, cosine_query_neg, cosine_query_distractors, fpr=0.1):\n",
    "    '''\n",
    "    compute identification rate using precomputer cosine similarities between pairs\n",
    "    at given fpr\n",
    "    params:\n",
    "      cosine_query_pos: cosine similarities between positive pairs from query\n",
    "      cosine_query_neg: cosine similarities between negative pairs from query\n",
    "      cosine_query_distractors: cosine similarities between negative pairs\n",
    "                                from query and distractors\n",
    "      fpr: false positive rate at which to compute TPR\n",
    "    output:\n",
    "      float: threshold for given fpr\n",
    "      float: TPR at given FPR\n",
    "    '''\n",
    "    false_pairs = cosine_query_neg + cosine_query_distractors\n",
    "    false_pairs = sorted(false_pairs, reverse=True)\n",
    "\n",
    "    # Acceptable amount of false pairs\n",
    "    N = int(fpr * len(false_pairs))\n",
    "\n",
    "    threshold_similarity = false_pairs[N]\n",
    "    print(threshold_similarity)\n",
    "\n",
    "    metric_value: int = 0\n",
    "    for s in cosine_query_pos:\n",
    "        if s > threshold_similarity:\n",
    "            metric_value += 1\n",
    "\n",
    "    return threshold_similarity, metric_value / len(cosine_query_pos)\n"
   ],
   "metadata": {
    "collapsed": false,
    "ExecuteTime": {
     "end_time": "2024-02-04T01:38:19.526587Z",
     "start_time": "2024-02-04T01:38:19.518379Z"
    }
   },
   "id": "206588c00dc110bf",
   "execution_count": 8
  },
  {
   "cell_type": "code",
   "outputs": [
    {
     "name": "stdout",
     "output_type": "stream",
     "text": [
      "-0.011982724070549011\n",
      "0.337142676115036\n",
      "0.7013071179389954\n"
     ]
    }
   ],
   "source": [
    "test_thr = []\n",
    "test_tpr = []\n",
    "for fpr in [0.5, 0.3, 0.1]:\n",
    "    x, y = compute_ir(test_cosine_query_pos, test_cosine_query_neg,\n",
    "                      test_cosine_query_distractors, fpr=fpr)\n",
    "    test_thr.append(x)\n",
    "    test_tpr.append(y)"
   ],
   "metadata": {
    "collapsed": false,
    "ExecuteTime": {
     "end_time": "2024-02-04T01:38:19.936834Z",
     "start_time": "2024-02-04T01:38:19.926937Z"
    }
   },
   "id": "5d8b5de01f9c5b20",
   "execution_count": 9
  },
  {
   "cell_type": "code",
   "outputs": [
    {
     "data": {
      "text/plain": "([-0.011982724070549011, 0.337142676115036, 0.7013071179389954],\n [0.75, 0.5, 0.5])"
     },
     "execution_count": 10,
     "metadata": {},
     "output_type": "execute_result"
    }
   ],
   "source": [
    "test_thr, test_tpr"
   ],
   "metadata": {
    "collapsed": false,
    "ExecuteTime": {
     "end_time": "2024-02-04T01:38:20.365712Z",
     "start_time": "2024-02-04T01:38:20.350012Z"
    }
   },
   "id": "8bc86d880dbe3fc4",
   "execution_count": 10
  },
  {
   "cell_type": "code",
   "outputs": [],
   "source": [
    "true_thr = [-0.011982733001947084, 0.3371426578637511, 0.701307100338029]\n",
    "assert np.allclose(np.array(test_thr), np.array(true_thr)), \"A mistake in computing threshold\"\n",
    "\n",
    "true_tpr = [0.75, 0.5, 0.5]\n",
    "assert np.allclose(np.array(test_tpr), np.array(true_tpr)), \"A mistake in computing tpr\""
   ],
   "metadata": {
    "collapsed": false,
    "ExecuteTime": {
     "end_time": "2024-02-04T01:38:20.871259Z",
     "start_time": "2024-02-04T01:38:20.862234Z"
    }
   },
   "id": "3a1b783b2dbe0bea",
   "execution_count": 11
  },
  {
   "cell_type": "code",
   "outputs": [
    {
     "name": "stdout",
     "output_type": "stream",
     "text": [
      "-0.011982724070549011\n",
      "0.5412660837173462\n",
      "0.7013071179389954\n",
      "0.8507997989654541\n"
     ]
    }
   ],
   "source": [
    "test_thr = []\n",
    "test_tpr = []\n",
    "for fpr in [0.5, 0.2, 0.1, 0.05]:\n",
    "    x, y = compute_ir(test_cosine_query_pos, test_cosine_query_neg,\n",
    "                      test_cosine_query_distractors, fpr=fpr)\n",
    "    test_thr.append(x)\n",
    "    test_tpr.append(y)"
   ],
   "metadata": {
    "collapsed": false,
    "ExecuteTime": {
     "end_time": "2024-02-04T01:38:21.439776Z",
     "start_time": "2024-02-04T01:38:21.410343Z"
    }
   },
   "id": "76ff429a5c5ef63f",
   "execution_count": 12
  }
 ],
 "metadata": {
  "kernelspec": {
   "display_name": "Python 3",
   "language": "python",
   "name": "python3"
  },
  "language_info": {
   "codemirror_mode": {
    "name": "ipython",
    "version": 2
   },
   "file_extension": ".py",
   "mimetype": "text/x-python",
   "name": "python",
   "nbconvert_exporter": "python",
   "pygments_lexer": "ipython2",
   "version": "2.7.6"
  }
 },
 "nbformat": 4,
 "nbformat_minor": 5
}
