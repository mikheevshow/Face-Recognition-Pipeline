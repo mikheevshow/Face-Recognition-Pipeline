{
 "cells": [
  {
   "cell_type": "code",
   "outputs": [],
   "source": [
    "from ir import (compute_ir, \n",
    "                compute_cosine_query_pos, \n",
    "                compute_cosine_query_neg, \n",
    "                compute_cosine_query_distractors)"
   ],
   "metadata": {
    "collapsed": false,
    "ExecuteTime": {
     "end_time": "2024-01-10T15:19:32.019182Z",
     "start_time": "2024-01-10T15:19:27.609017Z"
    }
   },
   "id": "383da5ecdc18e6de",
   "execution_count": 2
  },
  {
   "cell_type": "code",
   "outputs": [],
   "source": [
    "test_query_dict = {\n",
    "    2876: ['1.jpg', '2.jpg', '3.jpg'],\n",
    "    5674: ['5.jpg'],\n",
    "    864:  ['9.jpg', '10.jpg'],\n",
    "}\n",
    "test_query_img_names = ['1.jpg', '2.jpg', '3.jpg', '5.jpg', '9.jpg', '10.jpg']\n",
    "test_query_embeddings = [\n",
    "    [1.56, 6.45,  -7.68],\n",
    "    [-1.1 , 6.11,  -3.0],\n",
    "    [-0.06,-0.98,-1.29],\n",
    "    [8.56, 1.45,  1.11],\n",
    "    [0.7,  1.1,   -7.56],\n",
    "    [0.05, 0.9,   -2.56],\n",
    "]\n",
    "\n",
    "test_distractors_img_names = ['11.jpg', '12.jpg', '13.jpg', '14.jpg', '15.jpg']\n",
    "\n",
    "test_distractors_embeddings = [\n",
    "    [0.12, -3.23, -5.55],\n",
    "    [-1,   -0.01, 1.22],\n",
    "    [0.06, -0.23, 1.34],\n",
    "    [-6.6, 1.45,  -1.45],\n",
    "    [0.89,  1.98, 1.45],\n",
    "]\n",
    "\n",
    "test_cosine_query_pos = compute_cosine_query_pos(test_query_dict, test_query_img_names,\n",
    "                                                 test_query_embeddings)\n",
    "test_cosine_query_neg = compute_cosine_query_neg(test_query_dict, test_query_img_names,\n",
    "                                                 test_query_embeddings)\n",
    "test_cosine_query_distractors = compute_cosine_query_distractors(test_query_embeddings,"
   ],
   "metadata": {
    "collapsed": false
   },
   "id": "bbc6ca4ce6bde1a3"
  },
  {
   "cell_type": "markdown",
   "source": [
    "# Расчитать метрику для других значений fpr"
   ],
   "metadata": {
    "collapsed": false
   },
   "id": "ca148d6ba97baf4a"
  },
  {
   "cell_type": "code",
   "execution_count": 1,
   "id": "initial_id",
   "metadata": {
    "collapsed": true,
    "ExecuteTime": {
     "end_time": "2024-01-10T15:17:35.565790Z",
     "start_time": "2024-01-10T15:17:35.547742Z"
    }
   },
   "outputs": [],
   "source": [
    "fpr = [0.5, 0.2, 0.1, 0.05]"
   ]
  },
  {
   "cell_type": "code",
   "outputs": [],
   "source": [
    "test_thr = []\n",
    "test_tpr = []\n",
    "for fpr_value in fpr:\n",
    "    x, y = compute_ir()"
   ],
   "metadata": {
    "collapsed": false
   },
   "id": "2d0988f3ac802cef"
  }
 ],
 "metadata": {
  "kernelspec": {
   "display_name": "Python 3",
   "language": "python",
   "name": "python3"
  },
  "language_info": {
   "codemirror_mode": {
    "name": "ipython",
    "version": 2
   },
   "file_extension": ".py",
   "mimetype": "text/x-python",
   "name": "python",
   "nbconvert_exporter": "python",
   "pygments_lexer": "ipython2",
   "version": "2.7.6"
  }
 },
 "nbformat": 4,
 "nbformat_minor": 5
}
